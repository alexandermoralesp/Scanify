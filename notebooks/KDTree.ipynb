{
 "cells": [
  {
   "cell_type": "markdown",
   "id": "4c0f6f39-08ae-4be9-af47-b74eaa540ee0",
   "metadata": {},
   "source": [
    "\n",
    "# KD-Tree"
   ]
  },
  {
   "cell_type": "code",
   "execution_count": 1,
   "id": "9618d8d1-1e57-4286-937f-fa80e1b31059",
   "metadata": {},
   "outputs": [],
   "source": [
    "# Import libraries\n",
    "import os\n",
    "import numpy as np\n",
    "import matplotlib.pyplot as plt\n",
    "import face_recognition\n",
    "import random\n",
    "from sklearn.neighbors import KDTree"
   ]
  },
  {
   "cell_type": "code",
   "execution_count": 145,
   "id": "c0f0c22b-fff1-4c47-99c5-f69bf58ba899",
   "metadata": {},
   "outputs": [
    {
     "name": "stdout",
     "output_type": "stream",
     "text": [
      "/home/moralespanitz/UTEC/Scanify/data/lfw/Boris_Trajkovski/Boris_Trajkovski_0001.jpg\n",
      "/home/moralespanitz/UTEC/Scanify/data/lfw/Chen_Kaige/Chen_Kaige_0001.jpg\n",
      "/home/moralespanitz/UTEC/Scanify/data/lfw/Elizabeth_Hurley/Elizabeth_Hurley_0004.jpg\n",
      "/home/moralespanitz/UTEC/Scanify/data/lfw/Elizabeth_Hurley/Elizabeth_Hurley_0001.jpg\n",
      "/home/moralespanitz/UTEC/Scanify/data/lfw/Elizabeth_Hurley/Elizabeth_Hurley_0003.jpg\n",
      "/home/moralespanitz/UTEC/Scanify/data/lfw/Elizabeth_Hurley/Elizabeth_Hurley_0002.jpg\n",
      "/home/moralespanitz/UTEC/Scanify/data/lfw/Elizabeth_Hurley/Elizabeth_Hurley_0005.jpg\n",
      "/home/moralespanitz/UTEC/Scanify/data/lfw/Rod_Thorn/Rod_Thorn_0001.jpg\n",
      "/home/moralespanitz/UTEC/Scanify/data/lfw/Lisa_Raymond/Lisa_Raymond_0001.jpg\n",
      "/home/moralespanitz/UTEC/Scanify/data/lfw/Lisa_Raymond/Lisa_Raymond_0002.jpg\n",
      "/home/moralespanitz/UTEC/Scanify/data/lfw/Hank_Bass/Hank_Bass_0001.jpg\n",
      "/home/moralespanitz/UTEC/Scanify/data/lfw/Fredric_Seaman/Fredric_Seaman_0001.jpg\n",
      "/home/moralespanitz/UTEC/Scanify/data/lfw/Franklin_Damann/Franklin_Damann_0001.jpg\n",
      "/home/moralespanitz/UTEC/Scanify/data/lfw/Kyoko_Nakayama/Kyoko_Nakayama_0001.jpg\n",
      "/home/moralespanitz/UTEC/Scanify/data/lfw/Nicole_Kidman/Nicole_Kidman_0016.jpg\n",
      "/home/moralespanitz/UTEC/Scanify/data/lfw/Nicole_Kidman/Nicole_Kidman_0002.jpg\n",
      "/home/moralespanitz/UTEC/Scanify/data/lfw/Nicole_Kidman/Nicole_Kidman_0006.jpg\n",
      "/home/moralespanitz/UTEC/Scanify/data/lfw/Nicole_Kidman/Nicole_Kidman_0012.jpg\n",
      "/home/moralespanitz/UTEC/Scanify/data/lfw/Nicole_Kidman/Nicole_Kidman_0019.jpg\n",
      "/home/moralespanitz/UTEC/Scanify/data/lfw/Nicole_Kidman/Nicole_Kidman_0007.jpg\n",
      "/home/moralespanitz/UTEC/Scanify/data/lfw/Nicole_Kidman/Nicole_Kidman_0004.jpg\n",
      "/home/moralespanitz/UTEC/Scanify/data/lfw/Nicole_Kidman/Nicole_Kidman_0001.jpg\n",
      "/home/moralespanitz/UTEC/Scanify/data/lfw/Nicole_Kidman/Nicole_Kidman_0018.jpg\n",
      "/home/moralespanitz/UTEC/Scanify/data/lfw/Nicole_Kidman/Nicole_Kidman_0009.jpg\n",
      "/home/moralespanitz/UTEC/Scanify/data/lfw/Nicole_Kidman/Nicole_Kidman_0003.jpg\n",
      "/home/moralespanitz/UTEC/Scanify/data/lfw/Nicole_Kidman/Nicole_Kidman_0010.jpg\n",
      "/home/moralespanitz/UTEC/Scanify/data/lfw/Nicole_Kidman/Nicole_Kidman_0013.jpg\n",
      "/home/moralespanitz/UTEC/Scanify/data/lfw/Nicole_Kidman/Nicole_Kidman_0005.jpg\n",
      "/home/moralespanitz/UTEC/Scanify/data/lfw/Nicole_Kidman/Nicole_Kidman_0008.jpg\n",
      "/home/moralespanitz/UTEC/Scanify/data/lfw/Nicole_Kidman/Nicole_Kidman_0014.jpg\n",
      "/home/moralespanitz/UTEC/Scanify/data/lfw/Nicole_Kidman/Nicole_Kidman_0011.jpg\n",
      "/home/moralespanitz/UTEC/Scanify/data/lfw/Nicole_Kidman/Nicole_Kidman_0017.jpg\n",
      "/home/moralespanitz/UTEC/Scanify/data/lfw/Nicole_Kidman/Nicole_Kidman_0015.jpg\n"
     ]
    }
   ],
   "source": [
    "# Data representation\n",
    "\n",
    "# You can change this to any folder on your system\n",
    "ALLOWED_EXTENSIONS = {'png', 'jpg', 'jpeg', 'gif'}\n",
    "\n",
    "# General path for LFW\n",
    "lfw_path = \"/home/moralespanitz/UTEC/Scanify/data/lfw\"\n",
    "\n",
    "# Pre_calculated face enconding of upload image generated with face recognition\n",
    "data_enconding = []\n",
    "i = 0\n",
    "for folder in os.listdir(lfw_path):\n",
    "    image_path = os.path.join(lfw_path,folder)\n",
    "    if i >= 30: break\n",
    "    for image in os.listdir(image_path):\n",
    "        image_src = os.path.join(image_path,image)\n",
    "        print(image_src)\n",
    "        imagef = face_recognition.load_image_file(image_src)\n",
    "        data_enconding.append(face_recognition.face_encodings(imagef)[0])\n",
    "        i += 1"
   ]
  },
  {
   "cell_type": "code",
   "execution_count": 146,
   "id": "a2d93660-c260-4d58-8020-bf0762061447",
   "metadata": {},
   "outputs": [
    {
     "data": {
      "text/plain": [
       "array([False, False, False, False, False, False, False, False, False,\n",
       "       False, False, False, False, False, False, False, False, False,\n",
       "       False, False, False, False, False, False, False, False, False,\n",
       "       False, False, False, False, False, False, False, False, False,\n",
       "       False, False, False, False, False, False, False, False, False,\n",
       "       False, False, False, False, False, False, False, False, False,\n",
       "       False, False, False, False, False, False, False, False, False,\n",
       "       False, False, False, False, False, False, False, False, False,\n",
       "       False, False, False, False, False, False, False, False, False,\n",
       "       False, False, False, False, False, False, False, False, False,\n",
       "       False, False, False, False, False, False, False, False, False,\n",
       "       False, False, False, False, False, False, False, False, False,\n",
       "       False, False, False, False, False, False, False, False, False,\n",
       "       False, False, False, False, False, False, False, False, False,\n",
       "       False, False])"
      ]
     },
     "execution_count": 146,
     "metadata": {},
     "output_type": "execute_result"
    }
   ],
   "source": [
    "data_enconding[0] == data_enconding[1]"
   ]
  },
  {
   "cell_type": "code",
   "execution_count": 130,
   "id": "4b6d5868-a140-4dcf-b1d2-da0222b1d267",
   "metadata": {},
   "outputs": [],
   "source": [
    "picture_Boris_Trajkovski = \"/home/moralespanitz/UTEC/Scanify/data/lfw/Boris_Trajkovski/Boris_Trajkovski_0001.jpg\"\n",
    "picture_Nicole_Kidman = \"/home/moralespanitz/UTEC/Scanify/data/lfw/Nicole_Kidman/Nicole_Kidman_0016.jpg\"\n",
    "image_Boris = face_recognition.load_image_file(picture_Boris_Trajkovski)\n",
    "image_Nicole = face_recognition.load_image_file(picture_Nicole_Kidman)"
   ]
  },
  {
   "cell_type": "code",
   "execution_count": 132,
   "id": "2644e0fb-9429-446c-ab8d-bacb393f707c",
   "metadata": {},
   "outputs": [
    {
     "data": {
      "text/plain": [
       "(250, 250, 3)"
      ]
     },
     "execution_count": 132,
     "metadata": {},
     "output_type": "execute_result"
    }
   ],
   "source": [
    "image_Boris.shape"
   ]
  },
  {
   "cell_type": "code",
   "execution_count": 133,
   "id": "f49103a0-eaa2-494b-9ad2-4e921efd86a5",
   "metadata": {},
   "outputs": [
    {
     "data": {
      "text/plain": [
       "(250, 250, 3)"
      ]
     },
     "execution_count": 133,
     "metadata": {},
     "output_type": "execute_result"
    }
   ],
   "source": [
    "image_Nicole.shape"
   ]
  },
  {
   "cell_type": "code",
   "execution_count": 134,
   "id": "088d9286-d85c-4a4c-949e-1ebc88ce9f0b",
   "metadata": {},
   "outputs": [
    {
     "data": {
      "text/plain": [
       "array([-0.14829408,  0.00553838,  0.00603926, -0.04203659, -0.10506109,\n",
       "       -0.06532156,  0.00991102, -0.0815642 ,  0.18982367, -0.09082473,\n",
       "        0.17608938, -0.00736524, -0.24889882, -0.03743855, -0.06119969,\n",
       "        0.09073775, -0.1314844 , -0.1653218 , -0.18827102, -0.13864189,\n",
       "        0.02116177, -0.0194615 ,  0.00644748, -0.00430626, -0.14642517,\n",
       "       -0.27493989, -0.06816687, -0.13193676,  0.09859919, -0.12827572,\n",
       "        0.02325272,  0.0014821 , -0.21163575, -0.12746936,  0.0177403 ,\n",
       "        0.06105782, -0.05671047, -0.02223503,  0.3218196 ,  0.00251503,\n",
       "       -0.21015684,  0.02541519,  0.09126646,  0.25851619,  0.16178095,\n",
       "        0.11404244, -0.0153417 , -0.04128803,  0.1795636 , -0.34228075,\n",
       "        0.13082077,  0.11524239,  0.20228174,  0.05971814,  0.10724204,\n",
       "       -0.18378584,  0.07043464,  0.11277597, -0.26052296,  0.12491551,\n",
       "        0.10528328, -0.16358781, -0.12138826,  0.040955  ,  0.23720986,\n",
       "        0.14217883, -0.09145627, -0.09957123,  0.21749328, -0.17225996,\n",
       "       -0.01502151,  0.10729967, -0.01497838, -0.13096948, -0.2912944 ,\n",
       "        0.05130862,  0.49199197,  0.09947188, -0.13281113,  0.04371852,\n",
       "       -0.06832324, -0.00748976,  0.06860385,  0.00250594, -0.1874516 ,\n",
       "       -0.02553662, -0.07946435,  0.02759359,  0.18364003,  0.02116168,\n",
       "       -0.06188203,  0.15795474,  0.06055974,  0.04237189,  0.07216856,\n",
       "        0.06508349, -0.09926353, -0.08659673, -0.07561865,  0.0242892 ,\n",
       "        0.16895285, -0.09349931,  0.03706878,  0.02712897, -0.17895365,\n",
       "        0.14257556, -0.05243251, -0.05708329, -0.01561328, -0.01209426,\n",
       "       -0.07606118,  0.02085105,  0.13311501, -0.32414642,  0.26643309,\n",
       "        0.16813135, -0.04292228,  0.14555869,  0.08602032, -0.00886356,\n",
       "        0.03772066,  0.0217866 , -0.17463297, -0.16796769,  0.05287802,\n",
       "       -0.03797354,  0.12800001,  0.07774857])"
      ]
     },
     "execution_count": 134,
     "metadata": {},
     "output_type": "execute_result"
    }
   ],
   "source": [
    "image_encoding_Boris = face_recognition.face_encodings(image_Boris)[0]\n",
    "image_encoding_Boris"
   ]
  },
  {
   "cell_type": "code",
   "execution_count": 135,
   "id": "c88d2a49-33b7-423e-9d51-197d9313d67c",
   "metadata": {},
   "outputs": [
    {
     "data": {
      "text/plain": [
       "array([-1.29184246e-01, -4.46801409e-02,  1.43338397e-01, -1.07905947e-01,\n",
       "       -7.01110959e-02, -4.20194939e-02,  3.42975114e-03, -1.35138363e-01,\n",
       "        1.93375126e-01, -5.87567948e-02,  1.59366041e-01, -7.71206096e-02,\n",
       "       -2.63662934e-01,  1.47543019e-02,  1.97917819e-02,  7.12978393e-02,\n",
       "       -9.82818156e-02, -1.16834491e-01, -3.39087956e-02, -4.19750586e-02,\n",
       "        1.17693171e-01,  7.77107924e-02,  6.24229945e-02,  5.35974875e-02,\n",
       "       -1.83687076e-01, -2.30687782e-01, -1.09372139e-01, -7.47225061e-02,\n",
       "       -2.21613096e-04, -5.12851141e-02,  2.06652172e-02,  1.14869453e-01,\n",
       "       -1.53237596e-01,  1.25970850e-02,  4.19975705e-02,  1.23418644e-01,\n",
       "       -6.01260997e-02, -1.66449949e-01,  1.73817754e-01, -4.45999242e-02,\n",
       "       -2.07084805e-01, -9.03427154e-02, -2.88689770e-02,  2.02083424e-01,\n",
       "        2.43769303e-01, -3.04324608e-02,  1.51065504e-02, -1.84384599e-01,\n",
       "        1.05632387e-01, -3.23465854e-01,  3.88801880e-02,  2.16226786e-01,\n",
       "       -4.23001088e-02,  1.19350683e-02,  1.79327726e-01, -1.72953337e-01,\n",
       "        5.54981269e-02,  1.17969140e-01, -2.00164780e-01,  7.73693994e-02,\n",
       "        4.28983569e-02, -4.38254401e-02,  3.61294597e-02, -1.62707120e-01,\n",
       "        1.13920644e-01,  2.82619931e-02, -1.24814436e-01, -1.63442492e-01,\n",
       "        2.04842240e-01, -1.29623488e-01, -6.25281632e-02,  1.82127833e-01,\n",
       "       -1.86179861e-01, -2.99824655e-01, -2.46317610e-01, -2.82950327e-02,\n",
       "        3.59502852e-01,  1.13906756e-01, -1.89284936e-01,  1.32206336e-01,\n",
       "       -1.05532534e-01, -2.34774239e-02,  4.93811928e-02,  6.67558536e-02,\n",
       "        4.85890917e-02, -1.22592002e-02, -1.17630787e-01,  1.15906717e-02,\n",
       "        2.39601254e-01, -1.13109134e-01,  2.18695085e-02,  3.08103442e-01,\n",
       "       -1.94926690e-02, -9.75176916e-02,  3.83077040e-02,  9.19309333e-02,\n",
       "       -6.34378195e-02,  7.90948421e-02, -1.60675615e-01, -2.10426543e-02,\n",
       "        1.04555093e-01, -1.04175672e-01,  1.77505668e-02,  1.36211485e-01,\n",
       "       -2.51123041e-01,  1.78866431e-01, -1.37890819e-02, -5.60988449e-02,\n",
       "       -2.41034143e-02, -2.09698141e-01, -1.50531337e-01,  5.73060662e-02,\n",
       "        2.39367872e-01, -3.55770320e-01,  1.55458778e-01,  1.61774561e-01,\n",
       "        6.38991371e-02,  1.51184127e-01, -2.43763253e-02,  9.89092812e-02,\n",
       "        1.73630919e-02, -3.55532579e-02, -1.64302498e-01, -2.07947753e-02,\n",
       "        2.54412126e-02,  1.89295709e-02, -9.36494544e-02,  8.06484818e-02])"
      ]
     },
     "execution_count": 135,
     "metadata": {},
     "output_type": "execute_result"
    }
   ],
   "source": [
    "image_encoding_Nicole = face_recognition.face_encodings(image_Nicole)[0]\n",
    "image_encoding_Nicole"
   ]
  },
  {
   "cell_type": "code",
   "execution_count": 138,
   "id": "4c6277a9-6d26-4580-a26c-dccdb9697acb",
   "metadata": {},
   "outputs": [
    {
     "data": {
      "text/plain": [
       "array([False, False, False, False, False, False, False, False, False,\n",
       "       False, False, False, False, False, False, False, False, False,\n",
       "       False, False, False, False, False, False, False, False, False,\n",
       "       False, False, False, False, False, False, False, False, False,\n",
       "       False, False, False, False, False, False, False, False, False,\n",
       "       False, False, False, False, False, False, False, False, False,\n",
       "       False, False, False, False, False, False, False, False, False,\n",
       "       False, False, False, False, False, False, False, False, False,\n",
       "       False, False, False, False, False, False, False, False, False,\n",
       "       False, False, False, False, False, False, False, False, False,\n",
       "       False, False, False, False, False, False, False, False, False,\n",
       "       False, False, False, False, False, False, False, False, False,\n",
       "       False, False, False, False, False, False, False, False, False,\n",
       "       False, False, False, False, False, False, False, False, False,\n",
       "       False, False])"
      ]
     },
     "execution_count": 138,
     "metadata": {},
     "output_type": "execute_result"
    }
   ],
   "source": [
    "image_encoding_Boris.shape\n",
    "image_encoding_Nicole.shape\n",
    "image_encoding_Boris == image_encoding_Nicole"
   ]
  },
  {
   "cell_type": "markdown",
   "id": "b2ae2994-74c7-4e32-af3d-7dd6855eb5c4",
   "metadata": {},
   "source": [
    "Image dimensionality: (N,3,250)"
   ]
  },
  {
   "cell_type": "code",
   "execution_count": 19,
   "id": "d493e6ff-49ea-4840-959a-a8a04217a64a",
   "metadata": {},
   "outputs": [
    {
     "name": "stdout",
     "output_type": "stream",
     "text": [
      "Number of images:  33\n",
      "Width 250\n",
      "Height 250\n",
      "Channels:  3\n"
     ]
    }
   ],
   "source": [
    "print(\"Number of images: \", len(data_row.values()))\n",
    "print(\"Width\", len(data_row['Boris_Trajkovski_0001.jpg']))\n",
    "print(\"Height\", len(data_row['Boris_Trajkovski_0001.jpg'][0]))\n",
    "print(\"Channels: \", data_row['Boris_Trajkovski_0001.jpg'].ndim)"
   ]
  },
  {
   "cell_type": "code",
   "execution_count": 47,
   "id": "358979e8-3be3-4153-ab7c-4794631fe0f4",
   "metadata": {},
   "outputs": [],
   "source": [
    "image = data_row['Boris_Trajkovski_0001.jpg']\n",
    "image_encoding = face_recognition.face_encodings(image)[0]"
   ]
  },
  {
   "cell_type": "code",
   "execution_count": 147,
   "id": "28482acf-9181-44d3-b644-57023f4236af",
   "metadata": {},
   "outputs": [],
   "source": [
    "tree = KDTree(data_enconding, leaf_size=3) "
   ]
  },
  {
   "cell_type": "code",
   "execution_count": 159,
   "id": "249a68f8-3bcd-48ad-80c4-af1d95574cb0",
   "metadata": {},
   "outputs": [
    {
     "data": {
      "text/plain": [
       "array([[0.        , 0.69007991, 0.70728562, 0.78293401, 0.7846799 ,\n",
       "        0.83724486, 0.83754937, 0.84604487]])"
      ]
     },
     "execution_count": 159,
     "metadata": {},
     "output_type": "execute_result"
    }
   ],
   "source": [
    "dist, ind = tree.query(data_enconding[:1], k=8)\n",
    "dist"
   ]
  },
  {
   "cell_type": "code",
   "execution_count": null,
   "id": "291145be-4b87-49d0-8eaf-d7b4f200a562",
   "metadata": {},
   "outputs": [],
   "source": [
    "file_stream = \"\"\n",
    "# Load the uploaded image file\n",
    "upload_image = face_recogntion.load_image_file(file_stream)\n",
    "\n",
    "# Get face encondings for any faces in the uploaded image\n",
    "unknown_face_encondings = face_recognition.face_encodings(img)\n",
    "\n",
    "N = 1\n",
    "vector_dist = list()\n",
    "for i in range(N):\n",
    "    obj_1 = random.choice(list(data_row.values()))\n",
    "    obj_2 = random.choice(list(data_row.values()))\n",
    "    dist = range_search(obj_1, obj_2)\n",
    "    print(f\"Distancia es: {dis}\")\n",
    "    vector_dist.append(dist)"
   ]
  }
 ],
 "metadata": {
  "kernelspec": {
   "display_name": "Python 3 (ipykernel)",
   "language": "python",
   "name": "python3"
  },
  "language_info": {
   "codemirror_mode": {
    "name": "ipython",
    "version": 3
   },
   "file_extension": ".py",
   "mimetype": "text/x-python",
   "name": "python",
   "nbconvert_exporter": "python",
   "pygments_lexer": "ipython3",
   "version": "3.10.4"
  }
 },
 "nbformat": 4,
 "nbformat_minor": 5
}
