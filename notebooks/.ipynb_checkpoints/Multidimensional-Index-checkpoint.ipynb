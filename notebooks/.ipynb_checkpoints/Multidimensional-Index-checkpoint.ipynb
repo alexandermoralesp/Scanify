{
 "cells": [
  {
   "attachments": {},
   "cell_type": "markdown",
   "metadata": {
    "datalore": {
     "hide_input_from_viewers": false,
     "hide_output_from_viewers": false,
     "type": "MD"
    }
   },
   "source": [
    "# Indices Multidimensionales en Python"
   ]
  },
  {
   "cell_type": "code",
   "execution_count": 46,
   "metadata": {
    "datalore": {
     "hide_input_from_viewers": false,
     "hide_output_from_viewers": false,
     "type": "CODE"
    }
   },
   "outputs": [],
   "source": [
    "import matplotlib.pyplot as plt\n",
    "import numpy as np\n",
    "import os"
   ]
  },
  {
   "attachments": {},
   "cell_type": "markdown",
   "metadata": {
    "datalore": {
     "hide_input_from_viewers": false,
     "hide_output_from_viewers": false,
     "type": "MD"
    }
   },
   "source": [
    "## Graficar los puntos"
   ]
  },
  {
   "cell_type": "code",
   "execution_count": 47,
   "metadata": {
    "datalore": {
     "hide_input_from_viewers": false,
     "hide_output_from_viewers": false,
     "type": "CODE"
    }
   },
   "outputs": [],
   "source": [
    "objetos = [(4, 5), (3, 4),(5, 7),(6, 3),(4, 1)]\n",
    "query = (3, 1)"
   ]
  },
  {
   "cell_type": "code",
   "execution_count": 48,
   "metadata": {
    "datalore": {
     "hide_input_from_viewers": false,
     "hide_output_from_viewers": false,
     "type": "CODE"
    }
   },
   "outputs": [
    {
     "data": {
      "image/png": "[encoded data removed]",
      "text/plain": [
       "<Figure size 432x288 with 1 Axes>"
      ]
     },
     "metadata": {
      "needs_background": "light"
     },
     "output_type": "display_data"
    }
   ],
   "source": [
    "x = [x for x,_ in objetos]\n",
    "y = [y for _,y in objetos]\n",
    "_, ax = plt.subplots()\n",
    "ax.scatter(x, y)\n",
    "for i in range(len(x)):\n",
    "    ax.annotate(\"P\"+str(i), (x[i]+0.1, y[i]))\n",
    "ax.scatter(query[0], query[1])\n",
    "ax.annotate(\"Q\", (query[0] + 0.1, query[1]))\n",
    "plt.xlim(2, 8)\n",
    "plt.ylim(0, 8)\n",
    "plt.show()"
   ]
  },
  {
   "cell_type": "markdown",
   "metadata": {},
   "source": [
    "## Probando R-Tree"
   ]
  },
  {
   "cell_type": "code",
   "execution_count": 49,
   "metadata": {},
   "outputs": [],
   "source": [
    "import rtree\n",
    "# https://toblerity.org/rtree/class.html\n",
    "\n",
    "#1- borrando archivos anteriores\n",
    "if os.path.exists(\"puntos.data\"):\n",
    "    os.remove(\"puntos.data\")\n",
    "if os.path.exists(\"puntos.index\"):\n",
    "    os.remove(\"puntos.index\") \n",
    "\n",
    "# 2- configurar el indice\n",
    "prop = rtree.index.Property()\n",
    "prop.dimension = 2 \n",
    "prop.buffering_capacity = 3\n",
    "prop.dat_extension = \"data\"\n",
    "prop.idx_extension = \"index\"\n",
    "\n",
    "ind = rtree.index.Index(\"puntos\", properties = prop)\n",
    "\n",
    "# 3- insertar los puntos\n",
    "for i in range(len(objetos)):\n",
    "    ind.insert(i, objetos[i])"
   ]
  },
  {
   "cell_type": "code",
   "execution_count": 50,
   "metadata": {
    "datalore": {
     "hide_input_from_viewers": false,
     "hide_output_from_viewers": false,
     "type": "CODE"
    }
   },
   "outputs": [
    {
     "name": "stdout",
     "output_type": "stream",
     "text": [
      "4\n",
      "1\n",
      "3\n"
     ]
    }
   ],
   "source": [
    "# Búsqueda KNN\n",
    "for p in ind.nearest(query, num_results=3):\n",
    "    print(p)"
   ]
  },
  {
   "cell_type": "code",
   "execution_count": 51,
   "metadata": {
    "datalore": {
     "hide_input_from_viewers": false,
     "hide_output_from_viewers": false,
     "type": "CODE"
    }
   },
   "outputs": [
    {
     "name": "stdout",
     "output_type": "stream",
     "text": [
      "3\n",
      "4\n"
     ]
    }
   ],
   "source": [
    "# Búsqueda por interseccion / cobertura\n",
    "q = (2, 1, 7, 3) # area\n",
    "for p in ind.intersection(q):\n",
    "    print(p)"
   ]
  },
  {
   "cell_type": "code",
   "execution_count": 52,
   "metadata": {},
   "outputs": [],
   "source": [
    "# Cerrar archivo y guardar indice\n",
    "ind.close()"
   ]
  },
  {
   "attachments": {},
   "cell_type": "markdown",
   "metadata": {
    "datalore": {
     "hide_input_from_viewers": false,
     "hide_output_from_viewers": false,
     "type": "MD"
    }
   },
   "source": []
  },
  {
   "cell_type": "markdown",
   "metadata": {},
   "source": [
    "## Probando KD-Tree"
   ]
  },
  {
   "cell_type": "code",
   "execution_count": 53,
   "metadata": {},
   "outputs": [
    {
     "name": "stdout",
     "output_type": "stream",
     "text": [
      "4 => 1.0\n",
      "1 => 3.0\n",
      "3 => 3.605551275463989\n"
     ]
    }
   ],
   "source": [
    "from sklearn.neighbors import KDTree\n",
    "\n",
    "# 1- construccion del indice\n",
    "ind = KDTree(objetos, leaf_size=2)   \n",
    "\n",
    "# 2- busqueda KNN\n",
    "result_dist, result_id = ind.query([query], k=3)\n",
    "for id, dist in zip(result_id[0], result_dist[0]):\n",
    "    print(id, \"=>\", dist)\n"
   ]
  },
  {
   "cell_type": "code",
   "execution_count": 54,
   "metadata": {
    "datalore": {
     "hide_input_from_viewers": false,
     "hide_output_from_viewers": false,
     "type": "CODE"
    }
   },
   "outputs": [],
   "source": [
    "# Tarea: generar puntos con N=10^2, 10^3, 10^4, 10^5, 10^6 \n",
    "# y tomar los tiempos aplicando la busqueda KNN con K=3,6,9\n",
    "# "
   ]
  }
 ],
 "metadata": {
  "datalore": {
   "base_environment": "minimal",
   "computation_mode": "JUPYTER",
   "package_manager": "conda",
   "packages": [
    {
     "name": "matplotlib",
     "source": "CONDA"
    },
    {
     "name": "rtree",
     "source": "PIP",
     "version": "0.9.7"
    }
   ],
   "version": 1
  },
  "interpreter": {
   "hash": "49cb93f377a7abe7414b7b0f21fb3017538004a126cf690fb524202736b7fb92"
  },
  "kernelspec": {
   "display_name": "Python 3.9.13 ('base')",
   "language": "python",
   "name": "python3"
  },
  "language_info": {
   "codemirror_mode": {
    "name": "ipython",
    "version": 3
   },
   "file_extension": ".py",
   "mimetype": "text/x-python",
   "name": "python",
   "nbconvert_exporter": "python",
   "pygments_lexer": "ipython3",
   "version": "3.9.13"
  }
 },
 "nbformat": 4,
 "nbformat_minor": 4
}
