{
 "cells": [
  {
   "cell_type": "markdown",
   "metadata": {},
   "source": [
    "# KNN"
   ]
  },
  {
   "cell_type": "code",
   "execution_count": 15,
   "metadata": {},
   "outputs": [
    {
     "name": "stdout",
     "output_type": "stream",
     "text": [
      "Image i 10\n",
      "Image i 20\n",
      "Image i 30\n"
     ]
    }
   ],
   "source": [
    "import os\n",
    "import numpy as np\n",
    "import matplotlib.pyplot as plt\n",
    "import face_recognition\n",
    "import random\n",
    "\n",
    "# Data representation\n",
    "\n",
    "# You can change this to any folder on your system\n",
    "ALLOWED_EXTENSIONS = {'png', 'jpg', 'jpeg', 'gif'}\n",
    "N = 30\n",
    "# General path for LFW\n",
    "lfw_path = \"/home/moralespanitz/UTEC/Scanify/data/lfw\"\n",
    "i = 0\n",
    "# Pre_calculated face enconding of upload image generated with face recognition\n",
    "data_enconding = []\n",
    "data_encoding_reference = dict()\n",
    "for folder in os.listdir(lfw_path):\n",
    "    image_path = os.path.join(lfw_path,folder)\n",
    "    if i > N: break\n",
    "    for image in os.listdir(image_path):\n",
    "        image_src = os.path.join(image_path,image)\n",
    "        imagef = face_recognition.load_image_file(image_src)\n",
    "        x = face_recognition.face_encodings(imagef)\n",
    "        if x != []:\n",
    "            data_enconding.append(x[0])\n",
    "            data_encoding_reference[i] = image_src\n",
    "            i += 1\n",
    "        else:\n",
    "            print(image_src, \"is not working\")\n",
    "        if i > N: break\n",
    "        if i % 10 == 0: print(\"Image i\", i)\n",
    "data_enconding = np.array(data_enconding)"
   ]
  },
  {
   "cell_type": "code",
   "execution_count": 17,
   "metadata": {},
   "outputs": [
    {
     "data": {
      "text/plain": [
       "array([[ 0.       ,  0.       ],\n",
       "       [29.       ,  0.0956753]])"
      ]
     },
     "execution_count": 17,
     "metadata": {},
     "output_type": "execute_result"
    }
   ],
   "source": [
    "def euclidian_distance(Q, row):\n",
    "    return np.sqrt(np.power(np.sum(Q-row),2))\n",
    "def range_search(Q, D, r):\n",
    "    result = []\n",
    "    for i in range(len(D)):\n",
    "        dist = euclidian_distance(Q, D[i])\n",
    "        if dist < r:\n",
    "            result.append((i, dist))\n",
    "    return np.array(result)\n",
    "range_search(data_enconding[0],data_enconding, 0.1)"
   ]
  },
  {
   "cell_type": "code",
   "execution_count": 20,
   "metadata": {},
   "outputs": [],
   "source": [
    "def priority_search(Q, D, k):\n",
    "    #TODO: Change to priority queue\n",
    "    result = []\n",
    "    for i in range(len(D)):\n",
    "        dist = euclidian_distance(Q, D[i])\n",
    "        result.append( (i,dist))\n",
    "    result.sort(key=lambda y: y[1])\n",
    "    return result[:k]"
   ]
  },
  {
   "cell_type": "code",
   "execution_count": 22,
   "metadata": {},
   "outputs": [
    {
     "data": {
      "text/plain": [
       "[(0, 0.0), (29, 0.09567530488129705)]"
      ]
     },
     "execution_count": 22,
     "metadata": {},
     "output_type": "execute_result"
    }
   ],
   "source": [
    "priority_search(data_enconding[0],data_enconding, 2)"
   ]
  }
 ],
 "metadata": {
  "interpreter": {
   "hash": "5c91813b50fc1918a25ea69fec81d74c5633c84e1ce76648b1a68868dbaa7ae3"
  },
  "kernelspec": {
   "display_name": "Python 3 (ipykernel)",
   "language": "python",
   "name": "python3"
  },
  "language_info": {
   "codemirror_mode": {
    "name": "ipython",
    "version": 3
   },
   "file_extension": ".py",
   "mimetype": "text/x-python",
   "name": "python",
   "nbconvert_exporter": "python",
   "pygments_lexer": "ipython3",
   "version": "3.10.4"
  }
 },
 "nbformat": 4,
 "nbformat_minor": 4
}
