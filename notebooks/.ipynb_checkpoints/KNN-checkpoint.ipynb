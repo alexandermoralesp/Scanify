{
 "cells": [
  {
   "cell_type": "markdown",
   "metadata": {},
   "source": [
    "# KNN"
   ]
  },
  {
   "cell_type": "code",
   "execution_count": 4,
   "metadata": {},
   "outputs": [],
   "source": [
    "# Import dependencies\n",
    "import os\n",
    "import face_recognition\n",
    "import random\n",
    "from queue import PriorityQueue"
   ]
  },
  {
   "cell_type": "code",
   "execution_count": 2,
   "metadata": {},
   "outputs": [],
   "source": [
    "# You can change this to any folder on your system\n",
    "ALLOWED_EXTENSIONS = {'png', 'jpg', 'jpeg', 'gif'}\n",
    "\n",
    "# General path for LFW\n",
    "\n",
    "# TODO: Change with os.join\n",
    "lfw_path = \"/home/moralespanitz/UTEC/Advanced-Databases/Lab10.0/lfw\"\n",
    "\n",
    "# Return all allowed files\n",
    "def allowed_file(filename):\n",
    "    return '.' in filename and \\\n",
    "           filename.rsplit('.', 1)[1].lower() in ALLOWED_EXTENSIONS\n",
    "\n"
   ]
  },
  {
   "cell_type": "code",
   "execution_count": 3,
   "metadata": {},
   "outputs": [
    {
     "data": {
      "application/vnd.jupyter.widget-view+json": {
       "model_id": "616d98592af047c6a66ffa7effecbcbe",
       "version_major": 2,
       "version_minor": 0
      },
      "text/plain": [
       "FileUpload(value={}, description='Upload')"
      ]
     },
     "metadata": {},
     "output_type": "display_data"
    }
   ],
   "source": [
    "from ipywidgets import FileUpload\n",
    "upload = FileUpload()\n",
    "upload"
   ]
  },
  {
   "cell_type": "code",
   "execution_count": 3,
   "metadata": {},
   "outputs": [],
   "source": [
    "# General methods\n",
    "\n",
    "def euclidian_distance(Q, row):\n",
    "    return np.sqrt(np.power(np.sum(X-Y),2))\n",
    "\n",
    "def range_search(Q, D, r):\n",
    "    result = []\n",
    "    for id, row in d.iterrows():\n",
    "        dist = euclidian_distance(Q, row)\n",
    "        if dist < r:\n",
    "            result.append((id,dist))\n",
    "    return result\n",
    "\n",
    "def priority_search(Q, D, k):\n",
    "    result = PriorityQueue()\n",
    "    for id, row in d.iterrows():\n",
    "        dist = euclidian_distance(Q,row)\n",
    "        result.push(dist)\n",
    "    return result\n",
    "def knn_sequential_range(Q, D, r):\n",
    "    result = range_search(Q,D, r)\n",
    "    target = \"data\"\n",
    "    pr = 0\n",
    "    for (id,dist) in result:\n",
    "        if target == iris.iloc[id,4]:\n",
    "            pr += 1\n",
    "    pr = pr/len(result)\n",
    "    print(\"Q\"+str(indq) + \" : r=\", r, \" :pr\", pr, \" : n=\", len(result))\n",
    "\n",
    "def knn_sequential_priority(Q, D, k):\n",
    "    result = range_search(Q,D, k)\n",
    "    target = \"data\"\n",
    "    pr = 0\n",
    "    for (id,dist) in result:\n",
    "        if target == iris.iloc[id,4]:\n",
    "            pr += 1\n",
    "    pr = pr/len(result)\n",
    "    print(\"Q\"+str(indq) + \" : r=\", r, \" :pr\", pr, \" : n=\", len(result))"
   ]
  },
  {
   "cell_type": "markdown",
   "metadata": {},
   "source": [
    "## Sequential"
   ]
  },
  {
   "cell_type": "code",
   "execution_count": 1,
   "metadata": {},
   "outputs": [],
   "source": []
  },
  {
   "cell_type": "code",
   "execution_count": 9,
   "metadata": {},
   "outputs": [],
   "source": [
    "# Get faces in image by proximity\n",
    "\n",
    "def get_faces_in_image(file_stream):\n",
    "    # Pre_calculated face enconding of upload image generated with face recognition\n",
    "    data_row = dict()\n",
    "    i = 0\n",
    "    for folder in os.listdir(lfw_path):\n",
    "        image_path = os.path.join(path,folder)\n",
    "        if i >= 30: break\n",
    "        for image in os.listdir(image_path):\n",
    "            image_src = os.path.join(image_path,image)\n",
    "            data_row[image] = face_recognition.load_image_file(image_src)\n",
    "            i += 1\n",
    "    # Load the uploaded image file\n",
    "    upload_image = face_recogntion.load_image_file(file_stream)\n",
    "    \n",
    "    # Get face encondings for any faces in the uploaded image\n",
    "    unknown_face_encondings = face_recognition.face_encodings(img)\n",
    "    \n",
    "    N = 1\n",
    "    vector_dist = list()\n",
    "    for i in range(N):\n",
    "        obj_1 = random.choice(list(data_row.values()))\n",
    "        obj_2 = random.choice(list(data_row.values()))\n",
    "        dist = range_search(obj_1, obj_2)\n",
    "        print(f\"Distancia es: {dis}\")\n",
    "        vector_dist.append(dist)\n",
    "    \n",
    "    "
   ]
  },
  {
   "cell_type": "markdown",
   "metadata": {},
   "source": [
    "## Range"
   ]
  },
  {
   "cell_type": "code",
   "execution_count": 7,
   "metadata": {},
   "outputs": [],
   "source": [
    "def get_faces_in_image(file_stream):\n",
    "    # Pre_calculated face enconding of upload image generated with face recognition\n",
    "    data_row = dict()\n",
    "    i = 0\n",
    "    for folder in os.listdir(lfw_path):\n",
    "        image_path = os.path.join(path,folder)\n",
    "        if i >= 30: break\n",
    "        for image in os.listdir(image_path):\n",
    "            image_src = os.path.join(image_path,image)\n",
    "            data_row[image] = face_recognition.load_image_file(image_src)\n",
    "            i += 1\n",
    "    # Load the uploaded image file\n",
    "    upload_image = face_recogntion.load_image_file(file_stream)\n",
    "    \n",
    "    # Get face encondings for any faces in the uploaded image\n",
    "    unknown_face_encondings = face_recognition.face_encodings(img)\n",
    "    \n",
    "    N = 1\n",
    "    vector_dist = list()\n",
    "    for i in range(N):\n",
    "        obj_1 = random.choice(list(data_row.values()))\n",
    "        obj_2 = random.choice(list(data_row.values()))\n",
    "        dist = priority_search(obj_1, obj_2)\n",
    "        print(f\"Distancia es: {dis}\")\n",
    "        vector_dist.append(dist)\n",
    "    "
   ]
  },
  {
   "cell_type": "code",
   "execution_count": 15,
   "metadata": {},
   "outputs": [
    {
     "name": "stdout",
     "output_type": "stream",
     "text": [
      "Image i 10\n",
      "Image i 20\n",
      "Image i 30\n"
     ]
    }
   ],
   "source": [
    "import os\n",
    "import numpy as np\n",
    "import matplotlib.pyplot as plt\n",
    "import face_recognition\n",
    "import random\n",
    "\n",
    "# Data representation\n",
    "\n",
    "# You can change this to any folder on your system\n",
    "ALLOWED_EXTENSIONS = {'png', 'jpg', 'jpeg', 'gif'}\n",
    "N = 30\n",
    "# General path for LFW\n",
    "lfw_path = \"/home/moralespanitz/UTEC/Scanify/data/lfw\"\n",
    "i = 0\n",
    "# Pre_calculated face enconding of upload image generated with face recognition\n",
    "data_enconding = []\n",
    "data_encoding_reference = dict()\n",
    "for folder in os.listdir(lfw_path):\n",
    "    image_path = os.path.join(lfw_path,folder)\n",
    "    if i > N: break\n",
    "    for image in os.listdir(image_path):\n",
    "        image_src = os.path.join(image_path,image)\n",
    "        imagef = face_recognition.load_image_file(image_src)\n",
    "        x = face_recognition.face_encodings(imagef)\n",
    "        if x != []:\n",
    "            data_enconding.append(x[0])\n",
    "            data_encoding_reference[i] = image_src\n",
    "            i += 1\n",
    "        else:\n",
    "            print(image_src, \"is not working\")\n",
    "        if i > N: break\n",
    "        if i % 10 == 0: print(\"Image i\", i)\n",
    "data_enconding = np.array(data_enconding)"
   ]
  },
  {
   "cell_type": "code",
   "execution_count": 17,
   "metadata": {},
   "outputs": [
    {
     "data": {
      "text/plain": [
       "array([[ 0.       ,  0.       ],\n",
       "       [29.       ,  0.0956753]])"
      ]
     },
     "execution_count": 17,
     "metadata": {},
     "output_type": "execute_result"
    }
   ],
   "source": [
    "def euclidian_distance(Q, row):\n",
    "    return np.sqrt(np.power(np.sum(Q-row),2))\n",
    "def range_search(Q, D, r):\n",
    "    result = []\n",
    "    for i in range(len(D)):\n",
    "        dist = euclidian_distance(Q, D[i])\n",
    "        if dist < r:\n",
    "            result.append((i, dist))\n",
    "    return np.array(result)\n",
    "range_search(data_enconding[0],data_enconding, 0.1)"
   ]
  },
  {
   "cell_type": "code",
   "execution_count": 20,
   "metadata": {},
   "outputs": [],
   "source": [
    "def priority_search(Q, D, k):\n",
    "    #TODO: Change to priority queue\n",
    "    result = []\n",
    "    for i in range(len(D)):\n",
    "        dist = euclidian_distance(Q, D[i])\n",
    "        result.append( (i,dist))\n",
    "    result.sort(key=lambda y: y[1])\n",
    "    return result[:k]"
   ]
  },
  {
   "cell_type": "code",
   "execution_count": 22,
   "metadata": {},
   "outputs": [
    {
     "data": {
      "text/plain": [
       "[(0, 0.0), (29, 0.09567530488129705)]"
      ]
     },
     "execution_count": 22,
     "metadata": {},
     "output_type": "execute_result"
    }
   ],
   "source": [
    "priority_search(data_enconding[0],data_enconding, 2)"
   ]
  }
 ],
 "metadata": {
  "interpreter": {
   "hash": "5c91813b50fc1918a25ea69fec81d74c5633c84e1ce76648b1a68868dbaa7ae3"
  },
  "kernelspec": {
   "display_name": "Python 3 (ipykernel)",
   "language": "python",
   "name": "python3"
  },
  "language_info": {
   "codemirror_mode": {
    "name": "ipython",
    "version": 3
   },
   "file_extension": ".py",
   "mimetype": "text/x-python",
   "name": "python",
   "nbconvert_exporter": "python",
   "pygments_lexer": "ipython3",
   "version": "3.10.4"
  }
 },
 "nbformat": 4,
 "nbformat_minor": 4
}
