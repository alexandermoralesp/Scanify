{
 "cells": [
  {
   "cell_type": "markdown",
   "id": "a0ce86a3-62f4-441d-9a05-ab86d60f5271",
   "metadata": {},
   "source": [
    "# RTree"
   ]
  },
  {
   "cell_type": "code",
   "execution_count": 97,
   "id": "53f8a52e-09ad-4573-b9af-5319248c5881",
   "metadata": {},
   "outputs": [
    {
     "name": "stdout",
     "output_type": "stream",
     "text": [
      "Image i 10\n",
      "Image i 20\n",
      "Image i 30\n",
      "Image i 40\n",
      "Image i 50\n",
      "/home/moralespanitz/UTEC/Scanify/data/lfw/Jeff_Feldman/Jeff_Feldman_0001.jpg is not working\n",
      "Image i 60\n",
      "Image i 70\n",
      "Image i 80\n",
      "Image i 90\n",
      "Image i 100\n"
     ]
    }
   ],
   "source": [
    "# Import libraries\n",
    "import os\n",
    "import numpy as np\n",
    "import matplotlib.pyplot as plt\n",
    "import face_recognition\n",
    "import random\n",
    "\n",
    "# Data representation\n",
    "\n",
    "# You can change this to any folder on your system\n",
    "ALLOWED_EXTENSIONS = {'png', 'jpg', 'jpeg', 'gif'}\n",
    "N = 100\n",
    "# General path for LFW\n",
    "lfw_path = \"/home/moralespanitz/UTEC/Scanify/data/lfw\"\n",
    "i = 0\n",
    "# Pre_calculated face enconding of upload image generated with face recognition\n",
    "data_enconding = []\n",
    "for folder in os.listdir(lfw_path):\n",
    "    image_path = os.path.join(lfw_path,folder)\n",
    "    if i > N: break\n",
    "    for image in os.listdir(image_path):\n",
    "        image_src = os.path.join(image_path,image)\n",
    "        imagef = face_recognition.load_image_file(image_src)\n",
    "        x = face_recognition.face_encodings(imagef)\n",
    "        if x != []:\n",
    "            data_enconding.append(x[0])\n",
    "            i += 1\n",
    "        else:\n",
    "            print(image_src, \"is not working\")\n",
    "        if i > N: break\n",
    "        if i % 10 == 0: print(\"Image i\", i)\n",
    "data_enconding = np.array(data_enconding)"
   ]
  },
  {
   "cell_type": "code",
   "execution_count": 99,
   "id": "7becbe23-3e56-4324-8555-6669a18d20c6",
   "metadata": {},
   "outputs": [
    {
     "data": {
      "text/plain": [
       "(101, 128)"
      ]
     },
     "execution_count": 99,
     "metadata": {},
     "output_type": "execute_result"
    }
   ],
   "source": [
    "data_enconding.shape"
   ]
  },
  {
   "cell_type": "code",
   "execution_count": 102,
   "id": "987ea058-c014-40d5-b688-daf334e0ffec",
   "metadata": {},
   "outputs": [],
   "source": [
    "import rtree\n",
    "if os.path.exists(\"puntos.data\"):\n",
    "    os.remove(\"puntos.data\")\n",
    "if os.path.exists(\"puntos.index\"):\n",
    "    os.remove(\"puntos.index\")\n",
    "prop = rtree.index.Property()\n",
    "prop.dimension = 128\n",
    "prop.buffering_capacity = 3\n",
    "prop.dat_extension = \"data\"\n",
    "prop.idx_extension = \"index\"\n",
    "ind = rtree.index.Index(\"puntos\", properties = prop)"
   ]
  },
  {
   "cell_type": "code",
   "execution_count": 103,
   "id": "e64829ef-6903-4947-a534-87d866dfeb99",
   "metadata": {},
   "outputs": [
    {
     "data": {
      "text/plain": [
       "(101, 128)"
      ]
     },
     "execution_count": 103,
     "metadata": {},
     "output_type": "execute_result"
    }
   ],
   "source": [
    "data_enconding.shape"
   ]
  },
  {
   "cell_type": "code",
   "execution_count": 104,
   "id": "13d9b69c-5aeb-4aa2-9a70-5cdd70a18980",
   "metadata": {},
   "outputs": [],
   "source": [
    "# 3- insertar los puntos\n",
    "for i in range(data_enconding.shape[0]):\n",
    "    ind.insert(i, tuple(data_enconding[i]))"
   ]
  },
  {
   "cell_type": "code",
   "execution_count": 105,
   "id": "9a29e9a8-1a6e-4113-b35e-83f3d80a8e23",
   "metadata": {},
   "outputs": [
    {
     "name": "stdout",
     "output_type": "stream",
     "text": [
      "3\n",
      "5\n",
      "4\n",
      "2\n",
      "6\n",
      "80\n",
      "68\n"
     ]
    }
   ],
   "source": [
    "query = tuple(data_enconding[3])\n",
    "for p in ind.nearest(query, num_results=7):\n",
    "    print(p)"
   ]
  }
 ],
 "metadata": {
  "kernelspec": {
   "display_name": "Python 3 (ipykernel)",
   "language": "python",
   "name": "python3"
  },
  "language_info": {
   "codemirror_mode": {
    "name": "ipython",
    "version": 3
   },
   "file_extension": ".py",
   "mimetype": "text/x-python",
   "name": "python",
   "nbconvert_exporter": "python",
   "pygments_lexer": "ipython3",
   "version": "3.10.4"
  }
 },
 "nbformat": 4,
 "nbformat_minor": 5
}
