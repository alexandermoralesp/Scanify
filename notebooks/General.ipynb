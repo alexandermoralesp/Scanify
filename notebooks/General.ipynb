{
 "cells": [
  {
   "cell_type": "code",
   "execution_count": 2,
   "id": "f720389e-3686-40c5-b759-06690ba44a51",
   "metadata": {},
   "outputs": [],
   "source": [
    "import os\n",
    "import numpy as np\n",
    "import matplotlib.pyplot as plt\n",
    "import face_recognition\n",
    "import random\n",
    "\n",
    "# Data representation\n",
    "\n",
    "# You can change this to any folder on your system\n",
    "ALLOWED_EXTENSIONS = {'png', 'jpg', 'jpeg', 'gif'}\n",
    "N = 100\n",
    "# General path for LFW\n",
    "lfw_path = \"/home/moralespanitz/UTEC/Scanify/data/lfw\"\n",
    "i = 0\n",
    "# Pre_calculated face enconding of upload image generated with face recognition\n",
    "data_enconding = []\n",
    "for folder in os.listdir(lfw_path):\n",
    "    image_path = os.path.join(lfw_path,folder)\n",
    "    if i > N: break\n",
    "    for image in os.listdir(image_path):\n",
    "        image_src = os.path.join(image_path,image)\n",
    "        imagef = face_recognition.load_image_file(image_src)\n",
    "        x = face_recognition.face_encodings(imagef)\n",
    "        if x != []:\n",
    "            data_enconding.append(x[0])\n",
    "            i += 1\n",
    "        else:\n",
    "            print(image_src, \"is not working\")\n",
    "        if i > N: break\n",
    "        if i % 10 == 0: print(\"Image i\", i)\n",
    "data_enconding = np.array(data_enconding)"
   ]
  }
 ],
 "metadata": {
  "kernelspec": {
   "display_name": "Python 3 (ipykernel)",
   "language": "python",
   "name": "python3"
  },
  "language_info": {
   "codemirror_mode": {
    "name": "ipython",
    "version": 3
   },
   "file_extension": ".py",
   "mimetype": "text/x-python",
   "name": "python",
   "nbconvert_exporter": "python",
   "pygments_lexer": "ipython3",
   "version": "3.10.4"
  }
 },
 "nbformat": 4,
 "nbformat_minor": 5
}
